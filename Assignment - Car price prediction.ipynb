{
 "cells": [
  {
   "cell_type": "code",
   "execution_count": 2,
   "id": "d1bda923",
   "metadata": {},
   "outputs": [],
   "source": [
    "import pandas as pd\n",
    "import seaborn as sns\n",
    "import numpy as np"
   ]
  },
  {
   "cell_type": "code",
   "execution_count": 3,
   "id": "b2f82e8a",
   "metadata": {},
   "outputs": [
    {
     "data": {
      "text/html": [
       "<div>\n",
       "<style scoped>\n",
       "    .dataframe tbody tr th:only-of-type {\n",
       "        vertical-align: middle;\n",
       "    }\n",
       "\n",
       "    .dataframe tbody tr th {\n",
       "        vertical-align: top;\n",
       "    }\n",
       "\n",
       "    .dataframe thead th {\n",
       "        text-align: right;\n",
       "    }\n",
       "</style>\n",
       "<table border=\"1\" class=\"dataframe\">\n",
       "  <thead>\n",
       "    <tr style=\"text-align: right;\">\n",
       "      <th></th>\n",
       "      <th>Price_in_thousands</th>\n",
       "      <th>Engine_size</th>\n",
       "      <th>Horsepower</th>\n",
       "      <th>Wheelbase</th>\n",
       "      <th>Width</th>\n",
       "      <th>Length</th>\n",
       "      <th>Curb_weight</th>\n",
       "      <th>Fuel_capacity</th>\n",
       "      <th>Fuel_efficiency</th>\n",
       "      <th>Resale</th>\n",
       "    </tr>\n",
       "  </thead>\n",
       "  <tbody>\n",
       "    <tr>\n",
       "      <th>0</th>\n",
       "      <td>21.50</td>\n",
       "      <td>1.8</td>\n",
       "      <td>140</td>\n",
       "      <td>101.2</td>\n",
       "      <td>67.3</td>\n",
       "      <td>172.4</td>\n",
       "      <td>2.639</td>\n",
       "      <td>13.2</td>\n",
       "      <td>28</td>\n",
       "      <td>16.360</td>\n",
       "    </tr>\n",
       "    <tr>\n",
       "      <th>1</th>\n",
       "      <td>28.40</td>\n",
       "      <td>3.2</td>\n",
       "      <td>225</td>\n",
       "      <td>108.1</td>\n",
       "      <td>70.3</td>\n",
       "      <td>192.9</td>\n",
       "      <td>3.517</td>\n",
       "      <td>17.2</td>\n",
       "      <td>25</td>\n",
       "      <td>19.875</td>\n",
       "    </tr>\n",
       "    <tr>\n",
       "      <th>2</th>\n",
       "      <td>35.00</td>\n",
       "      <td>3.2</td>\n",
       "      <td>225</td>\n",
       "      <td>106.9</td>\n",
       "      <td>70.6</td>\n",
       "      <td>192.0</td>\n",
       "      <td>3.470</td>\n",
       "      <td>17.2</td>\n",
       "      <td>26</td>\n",
       "      <td>18.225</td>\n",
       "    </tr>\n",
       "    <tr>\n",
       "      <th>3</th>\n",
       "      <td>42.00</td>\n",
       "      <td>3.5</td>\n",
       "      <td>210</td>\n",
       "      <td>114.6</td>\n",
       "      <td>71.4</td>\n",
       "      <td>196.6</td>\n",
       "      <td>3.850</td>\n",
       "      <td>18.0</td>\n",
       "      <td>22</td>\n",
       "      <td>29.725</td>\n",
       "    </tr>\n",
       "    <tr>\n",
       "      <th>4</th>\n",
       "      <td>23.99</td>\n",
       "      <td>1.8</td>\n",
       "      <td>150</td>\n",
       "      <td>102.6</td>\n",
       "      <td>68.2</td>\n",
       "      <td>178.0</td>\n",
       "      <td>2.998</td>\n",
       "      <td>16.4</td>\n",
       "      <td>27</td>\n",
       "      <td>22.255</td>\n",
       "    </tr>\n",
       "  </tbody>\n",
       "</table>\n",
       "</div>"
      ],
      "text/plain": [
       "   Price_in_thousands  Engine_size  Horsepower  Wheelbase  Width  Length  \\\n",
       "0               21.50          1.8         140      101.2   67.3   172.4   \n",
       "1               28.40          3.2         225      108.1   70.3   192.9   \n",
       "2               35.00          3.2         225      106.9   70.6   192.0   \n",
       "3               42.00          3.5         210      114.6   71.4   196.6   \n",
       "4               23.99          1.8         150      102.6   68.2   178.0   \n",
       "\n",
       "   Curb_weight  Fuel_capacity  Fuel_efficiency  Resale  \n",
       "0        2.639           13.2               28  16.360  \n",
       "1        3.517           17.2               25  19.875  \n",
       "2        3.470           17.2               26  18.225  \n",
       "3        3.850           18.0               22  29.725  \n",
       "4        2.998           16.4               27  22.255  "
      ]
     },
     "execution_count": 3,
     "metadata": {},
     "output_type": "execute_result"
    }
   ],
   "source": [
    "a = pd.read_excel(r'C:\\Users\\SNEHA\\Downloads\\Car Price Prediction.xlsx')\n",
    "a.head()"
   ]
  },
  {
   "cell_type": "markdown",
   "id": "b7619e80",
   "metadata": {},
   "source": [
    "## Data Type"
   ]
  },
  {
   "cell_type": "code",
   "execution_count": 4,
   "id": "72de22a3",
   "metadata": {},
   "outputs": [
    {
     "name": "stdout",
     "output_type": "stream",
     "text": [
      "<class 'pandas.core.frame.DataFrame'>\n",
      "RangeIndex: 156 entries, 0 to 155\n",
      "Data columns (total 10 columns):\n",
      " #   Column              Non-Null Count  Dtype  \n",
      "---  ------              --------------  -----  \n",
      " 0   Price_in_thousands  156 non-null    float64\n",
      " 1   Engine_size         156 non-null    float64\n",
      " 2   Horsepower          156 non-null    int64  \n",
      " 3   Wheelbase           156 non-null    float64\n",
      " 4   Width               156 non-null    float64\n",
      " 5   Length              156 non-null    float64\n",
      " 6   Curb_weight         156 non-null    float64\n",
      " 7   Fuel_capacity       156 non-null    float64\n",
      " 8   Fuel_efficiency     156 non-null    int64  \n",
      " 9   Resale              156 non-null    float64\n",
      "dtypes: float64(8), int64(2)\n",
      "memory usage: 12.3 KB\n"
     ]
    }
   ],
   "source": [
    "a.info()"
   ]
  },
  {
   "cell_type": "markdown",
   "id": "0e6f2b0d",
   "metadata": {},
   "source": [
    "## Univariate analysis"
   ]
  },
  {
   "cell_type": "code",
   "execution_count": 5,
   "id": "77b2133b",
   "metadata": {},
   "outputs": [
    {
     "data": {
      "text/html": [
       "<div>\n",
       "<style scoped>\n",
       "    .dataframe tbody tr th:only-of-type {\n",
       "        vertical-align: middle;\n",
       "    }\n",
       "\n",
       "    .dataframe tbody tr th {\n",
       "        vertical-align: top;\n",
       "    }\n",
       "\n",
       "    .dataframe thead th {\n",
       "        text-align: right;\n",
       "    }\n",
       "</style>\n",
       "<table border=\"1\" class=\"dataframe\">\n",
       "  <thead>\n",
       "    <tr style=\"text-align: right;\">\n",
       "      <th></th>\n",
       "      <th>Price_in_thousands</th>\n",
       "      <th>Engine_size</th>\n",
       "      <th>Horsepower</th>\n",
       "      <th>Wheelbase</th>\n",
       "      <th>Width</th>\n",
       "      <th>Length</th>\n",
       "      <th>Curb_weight</th>\n",
       "      <th>Fuel_capacity</th>\n",
       "      <th>Fuel_efficiency</th>\n",
       "      <th>Resale</th>\n",
       "    </tr>\n",
       "  </thead>\n",
       "  <tbody>\n",
       "    <tr>\n",
       "      <th>count</th>\n",
       "      <td>156.000000</td>\n",
       "      <td>156.000000</td>\n",
       "      <td>156.000000</td>\n",
       "      <td>156.000000</td>\n",
       "      <td>156.000000</td>\n",
       "      <td>156.000000</td>\n",
       "      <td>156.000000</td>\n",
       "      <td>156.000000</td>\n",
       "      <td>156.000000</td>\n",
       "      <td>156.000000</td>\n",
       "    </tr>\n",
       "    <tr>\n",
       "      <th>mean</th>\n",
       "      <td>27.439532</td>\n",
       "      <td>3.060897</td>\n",
       "      <td>185.948718</td>\n",
       "      <td>107.487179</td>\n",
       "      <td>71.150000</td>\n",
       "      <td>187.343590</td>\n",
       "      <td>3.381949</td>\n",
       "      <td>17.951923</td>\n",
       "      <td>23.878205</td>\n",
       "      <td>18.060808</td>\n",
       "    </tr>\n",
       "    <tr>\n",
       "      <th>std</th>\n",
       "      <td>14.318249</td>\n",
       "      <td>1.044653</td>\n",
       "      <td>56.700321</td>\n",
       "      <td>7.641303</td>\n",
       "      <td>3.451872</td>\n",
       "      <td>13.431754</td>\n",
       "      <td>0.630372</td>\n",
       "      <td>3.887921</td>\n",
       "      <td>4.296049</td>\n",
       "      <td>10.076940</td>\n",
       "    </tr>\n",
       "    <tr>\n",
       "      <th>min</th>\n",
       "      <td>9.235000</td>\n",
       "      <td>1.000000</td>\n",
       "      <td>55.000000</td>\n",
       "      <td>92.600000</td>\n",
       "      <td>62.600000</td>\n",
       "      <td>149.400000</td>\n",
       "      <td>1.895000</td>\n",
       "      <td>10.300000</td>\n",
       "      <td>15.000000</td>\n",
       "      <td>5.160000</td>\n",
       "    </tr>\n",
       "    <tr>\n",
       "      <th>25%</th>\n",
       "      <td>18.081250</td>\n",
       "      <td>2.300000</td>\n",
       "      <td>149.500000</td>\n",
       "      <td>103.000000</td>\n",
       "      <td>68.400000</td>\n",
       "      <td>177.575000</td>\n",
       "      <td>2.973000</td>\n",
       "      <td>15.800000</td>\n",
       "      <td>21.000000</td>\n",
       "      <td>12.527500</td>\n",
       "    </tr>\n",
       "    <tr>\n",
       "      <th>50%</th>\n",
       "      <td>23.099500</td>\n",
       "      <td>3.000000</td>\n",
       "      <td>177.500000</td>\n",
       "      <td>107.000000</td>\n",
       "      <td>70.550000</td>\n",
       "      <td>187.900000</td>\n",
       "      <td>3.355000</td>\n",
       "      <td>17.200000</td>\n",
       "      <td>24.000000</td>\n",
       "      <td>17.617500</td>\n",
       "    </tr>\n",
       "    <tr>\n",
       "      <th>75%</th>\n",
       "      <td>32.253750</td>\n",
       "      <td>3.575000</td>\n",
       "      <td>215.000000</td>\n",
       "      <td>112.200000</td>\n",
       "      <td>73.425000</td>\n",
       "      <td>196.125000</td>\n",
       "      <td>3.821500</td>\n",
       "      <td>19.575000</td>\n",
       "      <td>26.000000</td>\n",
       "      <td>18.080750</td>\n",
       "    </tr>\n",
       "    <tr>\n",
       "      <th>max</th>\n",
       "      <td>85.500000</td>\n",
       "      <td>8.000000</td>\n",
       "      <td>450.000000</td>\n",
       "      <td>138.700000</td>\n",
       "      <td>79.900000</td>\n",
       "      <td>224.500000</td>\n",
       "      <td>5.572000</td>\n",
       "      <td>32.000000</td>\n",
       "      <td>45.000000</td>\n",
       "      <td>67.550000</td>\n",
       "    </tr>\n",
       "  </tbody>\n",
       "</table>\n",
       "</div>"
      ],
      "text/plain": [
       "       Price_in_thousands  Engine_size  Horsepower   Wheelbase       Width  \\\n",
       "count          156.000000   156.000000  156.000000  156.000000  156.000000   \n",
       "mean            27.439532     3.060897  185.948718  107.487179   71.150000   \n",
       "std             14.318249     1.044653   56.700321    7.641303    3.451872   \n",
       "min              9.235000     1.000000   55.000000   92.600000   62.600000   \n",
       "25%             18.081250     2.300000  149.500000  103.000000   68.400000   \n",
       "50%             23.099500     3.000000  177.500000  107.000000   70.550000   \n",
       "75%             32.253750     3.575000  215.000000  112.200000   73.425000   \n",
       "max             85.500000     8.000000  450.000000  138.700000   79.900000   \n",
       "\n",
       "           Length  Curb_weight  Fuel_capacity  Fuel_efficiency      Resale  \n",
       "count  156.000000   156.000000     156.000000       156.000000  156.000000  \n",
       "mean   187.343590     3.381949      17.951923        23.878205   18.060808  \n",
       "std     13.431754     0.630372       3.887921         4.296049   10.076940  \n",
       "min    149.400000     1.895000      10.300000        15.000000    5.160000  \n",
       "25%    177.575000     2.973000      15.800000        21.000000   12.527500  \n",
       "50%    187.900000     3.355000      17.200000        24.000000   17.617500  \n",
       "75%    196.125000     3.821500      19.575000        26.000000   18.080750  \n",
       "max    224.500000     5.572000      32.000000        45.000000   67.550000  "
      ]
     },
     "execution_count": 5,
     "metadata": {},
     "output_type": "execute_result"
    }
   ],
   "source": [
    "a.describe()"
   ]
  },
  {
   "cell_type": "code",
   "execution_count": 6,
   "id": "33a5b5b0",
   "metadata": {},
   "outputs": [
    {
     "data": {
      "image/png": "[encoded data removed]",
      "text/plain": [
       "<Figure size 432x288 with 1 Axes>"
      ]
     },
     "metadata": {
      "needs_background": "light"
     },
     "output_type": "display_data"
    },
    {
     "data": {
      "image/png": "[encoded data removed]",
      "text/plain": [
       "<Figure size 432x288 with 1 Axes>"
      ]
     },
     "metadata": {
      "needs_background": "light"
     },
     "output_type": "display_data"
    },
    {
     "data": {
      "image/png": "[encoded data removed]",
      "text/plain": [
       "<Figure size 432x288 with 1 Axes>"
      ]
     },
     "metadata": {
      "needs_background": "light"
     },
     "output_type": "display_data"
    },
    {
     "data": {
      "image/png": "[encoded data removed]",
      "text/plain": [
       "<Figure size 432x288 with 1 Axes>"
      ]
     },
     "metadata": {
      "needs_background": "light"
     },
     "output_type": "display_data"
    },
    {
     "data": {
      "image/png": "[encoded data removed]",
      "text/plain": [
       "<Figure size 432x288 with 1 Axes>"
      ]
     },
     "metadata": {
      "needs_background": "light"
     },
     "output_type": "display_data"
    },
    {
     "data": {
      "image/png": "[encoded data removed]",
      "text/plain": [
       "<Figure size 432x288 with 1 Axes>"
      ]
     },
     "metadata": {
      "needs_background": "light"
     },
     "output_type": "display_data"
    },
    {
     "data": {
      "image/png": "[encoded data removed]",
      "text/plain": [
       "<Figure size 432x288 with 1 Axes>"
      ]
     },
     "metadata": {
      "needs_background": "light"
     },
     "output_type": "display_data"
    },
    {
     "data": {
      "image/png": "[encoded data removed]",
      "text/plain": [
       "<Figure size 432x288 with 1 Axes>"
      ]
     },
     "metadata": {
      "needs_background": "light"
     },
     "output_type": "display_data"
    },
    {
     "data": {
      "image/png": "[encoded data removed]",
      "text/plain": [
       "<Figure size 432x288 with 1 Axes>"
      ]
     },
     "metadata": {
      "needs_background": "light"
     },
     "output_type": "display_data"
    },
    {
     "data": {
      "image/png": "[encoded data removed]",
      "text/plain": [
       "<Figure size 432x288 with 1 Axes>"
      ]
     },
     "metadata": {
      "needs_background": "light"
     },
     "output_type": "display_data"
    }
   ],
   "source": [
    "import matplotlib.pyplot as plt\n",
    "i =['Price_in_thousands','Engine_size','Horsepower','Wheelbase','Width','Length','Curb_weight','Fuel_capacity','Fuel_efficiency','Resale']\n",
    "for j in i:\n",
    "    plt.figure()\n",
    "    plt.boxplot(a[j])"
   ]
  },
  {
   "cell_type": "code",
   "execution_count": 7,
   "id": "e2b2974b",
   "metadata": {},
   "outputs": [],
   "source": [
    "def outliers(df,col):\n",
    "    q1 = df[col].quantile(0.25)\n",
    "    q3 = df[col].quantile(0.75)\n",
    "    iqr = q3 -q1\n",
    "    upper_limit = q3 + 1.5*iqr\n",
    "    lower_limit = q1 - 1.5*iqr\n",
    "    \n",
    "    df[col]=np.where(df[col] < lower_limit,lower_limit,\n",
    "                    np.where(df[col] > upper_limit,upper_limit,df[col]))\n",
    "    return df[col]"
   ]
  },
  {
   "cell_type": "code",
   "execution_count": 8,
   "id": "d144a08b",
   "metadata": {},
   "outputs": [
    {
     "name": "stdout",
     "output_type": "stream",
     "text": [
      "0      21.50\n",
      "1      28.40\n",
      "2      35.00\n",
      "3      42.00\n",
      "4      23.99\n",
      "       ...  \n",
      "151    24.40\n",
      "152    27.50\n",
      "153    28.80\n",
      "154    45.50\n",
      "155    36.00\n",
      "Name: Price_in_thousands, Length: 156, dtype: float64\n",
      "0      1.8\n",
      "1      3.2\n",
      "2      3.2\n",
      "3      3.5\n",
      "4      1.8\n",
      "      ... \n",
      "151    1.9\n",
      "152    2.4\n",
      "153    2.4\n",
      "154    2.3\n",
      "155    2.9\n",
      "Name: Engine_size, Length: 156, dtype: float64\n",
      "0      140.0\n",
      "1      225.0\n",
      "2      225.0\n",
      "3      210.0\n",
      "4      150.0\n",
      "       ...  \n",
      "151    160.0\n",
      "152    168.0\n",
      "153    168.0\n",
      "154    236.0\n",
      "155    201.0\n",
      "Name: Horsepower, Length: 156, dtype: float64\n",
      "0      101.2\n",
      "1      108.1\n",
      "2      106.9\n",
      "3      114.6\n",
      "4      102.6\n",
      "       ...  \n",
      "151    100.5\n",
      "152    104.9\n",
      "153    104.9\n",
      "154    104.9\n",
      "155    109.9\n",
      "Name: Wheelbase, Length: 156, dtype: float64\n",
      "0      67.3\n",
      "1      70.3\n",
      "2      70.6\n",
      "3      71.4\n",
      "4      68.2\n",
      "       ... \n",
      "151    67.6\n",
      "152    69.3\n",
      "153    69.3\n",
      "154    71.5\n",
      "155    72.1\n",
      "Name: Width, Length: 156, dtype: float64\n",
      "0      172.4\n",
      "1      192.9\n",
      "2      192.0\n",
      "3      196.6\n",
      "4      178.0\n",
      "       ...  \n",
      "151    176.6\n",
      "152    185.9\n",
      "153    186.2\n",
      "154    185.7\n",
      "155    189.8\n",
      "Name: Length, Length: 156, dtype: float64\n",
      "0      2.639\n",
      "1      3.517\n",
      "2      3.470\n",
      "3      3.850\n",
      "4      2.998\n",
      "       ...  \n",
      "151    3.042\n",
      "152    3.208\n",
      "153    3.259\n",
      "154    3.601\n",
      "155    3.600\n",
      "Name: Curb_weight, Length: 156, dtype: float64\n",
      "0      13.2\n",
      "1      17.2\n",
      "2      17.2\n",
      "3      18.0\n",
      "4      16.4\n",
      "       ... \n",
      "151    15.8\n",
      "152    17.9\n",
      "153    17.9\n",
      "154    18.5\n",
      "155    21.1\n",
      "Name: Fuel_capacity, Length: 156, dtype: float64\n",
      "0      28.0\n",
      "1      25.0\n",
      "2      26.0\n",
      "3      22.0\n",
      "4      27.0\n",
      "       ... \n",
      "151    25.0\n",
      "152    25.0\n",
      "153    25.0\n",
      "154    23.0\n",
      "155    24.0\n",
      "Name: Fuel_efficiency, Length: 156, dtype: float64\n",
      "0      16.360000\n",
      "1      19.875000\n",
      "2      18.225000\n",
      "3      26.410625\n",
      "4      22.255000\n",
      "         ...    \n",
      "151    18.061000\n",
      "152    18.061000\n",
      "153    18.061000\n",
      "154    18.061000\n",
      "155    18.061000\n",
      "Name: Resale, Length: 156, dtype: float64\n"
     ]
    },
    {
     "data": {
      "image/png": "[encoded data removed]",
      "text/plain": [
       "<Figure size 432x288 with 1 Axes>"
      ]
     },
     "metadata": {
      "needs_background": "light"
     },
     "output_type": "display_data"
    },
    {
     "data": {
      "image/png": "[encoded data removed]",
      "text/plain": [
       "<Figure size 432x288 with 1 Axes>"
      ]
     },
     "metadata": {
      "needs_background": "light"
     },
     "output_type": "display_data"
    },
    {
     "data": {
      "image/png": "[encoded data removed]",
      "text/plain": [
       "<Figure size 432x288 with 1 Axes>"
      ]
     },
     "metadata": {
      "needs_background": "light"
     },
     "output_type": "display_data"
    },
    {
     "data": {
      "image/png": "[encoded data removed]",
      "text/plain": [
       "<Figure size 432x288 with 1 Axes>"
      ]
     },
     "metadata": {
      "needs_background": "light"
     },
     "output_type": "display_data"
    },
    {
     "data": {
      "image/png": "[encoded data removed]",
      "text/plain": [
       "<Figure size 432x288 with 1 Axes>"
      ]
     },
     "metadata": {
      "needs_background": "light"
     },
     "output_type": "display_data"
    },
    {
     "data": {
      "image/png": "[encoded data removed]",
      "text/plain": [
       "<Figure size 432x288 with 1 Axes>"
      ]
     },
     "metadata": {
      "needs_background": "light"
     },
     "output_type": "display_data"
    },
    {
     "data": {
      "image/png": "[encoded data removed]",
      "text/plain": [
       "<Figure size 432x288 with 1 Axes>"
      ]
     },
     "metadata": {
      "needs_background": "light"
     },
     "output_type": "display_data"
    },
    {
     "data": {
      "image/png": "[encoded data removed]",
      "text/plain": [
       "<Figure size 432x288 with 1 Axes>"
      ]
     },
     "metadata": {
      "needs_background": "light"
     },
     "output_type": "display_data"
    },
    {
     "data": {
      "image/png": "[encoded data removed]",
      "text/plain": [
       "<Figure size 432x288 with 1 Axes>"
      ]
     },
     "metadata": {
      "needs_background": "light"
     },
     "output_type": "display_data"
    },
    {
     "data": {
      "image/png": "[encoded data removed]",
      "text/plain": [
       "<Figure size 432x288 with 1 Axes>"
      ]
     },
     "metadata": {
      "needs_background": "light"
     },
     "output_type": "display_data"
    }
   ],
   "source": [
    "import matplotlib.pyplot as plt\n",
    "i =['Price_in_thousands','Engine_size','Horsepower','Wheelbase','Width','Length','Curb_weight','Fuel_capacity','Fuel_efficiency','Resale']\n",
    "for j in i:\n",
    "    print(outliers(a,j))\n",
    "\n",
    "for j in i:\n",
    "    plt.figure()\n",
    "    plt.boxplot(a[j])\n",
    "    "
   ]
  },
  {
   "cell_type": "markdown",
   "id": "718cec8c",
   "metadata": {},
   "source": [
    "# Missing values"
   ]
  },
  {
   "cell_type": "code",
   "execution_count": 9,
   "id": "15125df3",
   "metadata": {},
   "outputs": [
    {
     "data": {
      "text/plain": [
       "Price_in_thousands    0\n",
       "Engine_size           0\n",
       "Horsepower            0\n",
       "Wheelbase             0\n",
       "Width                 0\n",
       "Length                0\n",
       "Curb_weight           0\n",
       "Fuel_capacity         0\n",
       "Fuel_efficiency       0\n",
       "Resale                0\n",
       "dtype: int64"
      ]
     },
     "execution_count": 9,
     "metadata": {},
     "output_type": "execute_result"
    }
   ],
   "source": [
    "a.isna().sum()"
   ]
  },
  {
   "cell_type": "code",
   "execution_count": 10,
   "id": "6fe826c8",
   "metadata": {},
   "outputs": [
    {
     "data": {
      "text/html": [
       "<div>\n",
       "<style scoped>\n",
       "    .dataframe tbody tr th:only-of-type {\n",
       "        vertical-align: middle;\n",
       "    }\n",
       "\n",
       "    .dataframe tbody tr th {\n",
       "        vertical-align: top;\n",
       "    }\n",
       "\n",
       "    .dataframe thead th {\n",
       "        text-align: right;\n",
       "    }\n",
       "</style>\n",
       "<table border=\"1\" class=\"dataframe\">\n",
       "  <thead>\n",
       "    <tr style=\"text-align: right;\">\n",
       "      <th></th>\n",
       "      <th>Price_in_thousands</th>\n",
       "      <th>Engine_size</th>\n",
       "      <th>Horsepower</th>\n",
       "      <th>Wheelbase</th>\n",
       "      <th>Width</th>\n",
       "      <th>Length</th>\n",
       "      <th>Curb_weight</th>\n",
       "      <th>Fuel_capacity</th>\n",
       "      <th>Fuel_efficiency</th>\n",
       "      <th>Resale</th>\n",
       "    </tr>\n",
       "  </thead>\n",
       "  <tbody>\n",
       "    <tr>\n",
       "      <th>0</th>\n",
       "      <td>4.636809</td>\n",
       "      <td>1.341641</td>\n",
       "      <td>11.832160</td>\n",
       "      <td>10.059821</td>\n",
       "      <td>8.203658</td>\n",
       "      <td>13.130118</td>\n",
       "      <td>1.624500</td>\n",
       "      <td>3.633180</td>\n",
       "      <td>5.291503</td>\n",
       "      <td>4.044750</td>\n",
       "    </tr>\n",
       "    <tr>\n",
       "      <th>1</th>\n",
       "      <td>5.329165</td>\n",
       "      <td>1.788854</td>\n",
       "      <td>15.000000</td>\n",
       "      <td>10.397115</td>\n",
       "      <td>8.384510</td>\n",
       "      <td>13.888844</td>\n",
       "      <td>1.875367</td>\n",
       "      <td>4.147288</td>\n",
       "      <td>5.000000</td>\n",
       "      <td>4.458139</td>\n",
       "    </tr>\n",
       "    <tr>\n",
       "      <th>2</th>\n",
       "      <td>5.916080</td>\n",
       "      <td>1.788854</td>\n",
       "      <td>15.000000</td>\n",
       "      <td>10.339246</td>\n",
       "      <td>8.402381</td>\n",
       "      <td>13.856406</td>\n",
       "      <td>1.862794</td>\n",
       "      <td>4.147288</td>\n",
       "      <td>5.099020</td>\n",
       "      <td>4.269075</td>\n",
       "    </tr>\n",
       "    <tr>\n",
       "      <th>3</th>\n",
       "      <td>6.480741</td>\n",
       "      <td>1.870829</td>\n",
       "      <td>14.491377</td>\n",
       "      <td>10.705139</td>\n",
       "      <td>8.449852</td>\n",
       "      <td>14.021412</td>\n",
       "      <td>1.962142</td>\n",
       "      <td>4.242641</td>\n",
       "      <td>4.690416</td>\n",
       "      <td>5.139127</td>\n",
       "    </tr>\n",
       "    <tr>\n",
       "      <th>4</th>\n",
       "      <td>4.897959</td>\n",
       "      <td>1.341641</td>\n",
       "      <td>12.247449</td>\n",
       "      <td>10.129166</td>\n",
       "      <td>8.258329</td>\n",
       "      <td>13.341664</td>\n",
       "      <td>1.731473</td>\n",
       "      <td>4.049691</td>\n",
       "      <td>5.196152</td>\n",
       "      <td>4.717521</td>\n",
       "    </tr>\n",
       "    <tr>\n",
       "      <th>...</th>\n",
       "      <td>...</td>\n",
       "      <td>...</td>\n",
       "      <td>...</td>\n",
       "      <td>...</td>\n",
       "      <td>...</td>\n",
       "      <td>...</td>\n",
       "      <td>...</td>\n",
       "      <td>...</td>\n",
       "      <td>...</td>\n",
       "      <td>...</td>\n",
       "    </tr>\n",
       "    <tr>\n",
       "      <th>151</th>\n",
       "      <td>4.939636</td>\n",
       "      <td>1.378405</td>\n",
       "      <td>12.649111</td>\n",
       "      <td>10.024969</td>\n",
       "      <td>8.221922</td>\n",
       "      <td>13.289093</td>\n",
       "      <td>1.744133</td>\n",
       "      <td>3.974921</td>\n",
       "      <td>5.000000</td>\n",
       "      <td>4.249824</td>\n",
       "    </tr>\n",
       "    <tr>\n",
       "      <th>152</th>\n",
       "      <td>5.244044</td>\n",
       "      <td>1.549193</td>\n",
       "      <td>12.961481</td>\n",
       "      <td>10.242070</td>\n",
       "      <td>8.324662</td>\n",
       "      <td>13.634515</td>\n",
       "      <td>1.791089</td>\n",
       "      <td>4.230839</td>\n",
       "      <td>5.000000</td>\n",
       "      <td>4.249824</td>\n",
       "    </tr>\n",
       "    <tr>\n",
       "      <th>153</th>\n",
       "      <td>5.366563</td>\n",
       "      <td>1.549193</td>\n",
       "      <td>12.961481</td>\n",
       "      <td>10.242070</td>\n",
       "      <td>8.324662</td>\n",
       "      <td>13.645512</td>\n",
       "      <td>1.805270</td>\n",
       "      <td>4.230839</td>\n",
       "      <td>5.000000</td>\n",
       "      <td>4.249824</td>\n",
       "    </tr>\n",
       "    <tr>\n",
       "      <th>154</th>\n",
       "      <td>6.745369</td>\n",
       "      <td>1.516575</td>\n",
       "      <td>15.362291</td>\n",
       "      <td>10.242070</td>\n",
       "      <td>8.455767</td>\n",
       "      <td>13.627179</td>\n",
       "      <td>1.897630</td>\n",
       "      <td>4.301163</td>\n",
       "      <td>4.795832</td>\n",
       "      <td>4.249824</td>\n",
       "    </tr>\n",
       "    <tr>\n",
       "      <th>155</th>\n",
       "      <td>6.000000</td>\n",
       "      <td>1.702939</td>\n",
       "      <td>14.177447</td>\n",
       "      <td>10.483320</td>\n",
       "      <td>8.491172</td>\n",
       "      <td>13.776792</td>\n",
       "      <td>1.897367</td>\n",
       "      <td>4.593474</td>\n",
       "      <td>4.898979</td>\n",
       "      <td>4.249824</td>\n",
       "    </tr>\n",
       "  </tbody>\n",
       "</table>\n",
       "<p>156 rows × 10 columns</p>\n",
       "</div>"
      ],
      "text/plain": [
       "     Price_in_thousands  Engine_size  Horsepower  Wheelbase     Width  \\\n",
       "0              4.636809     1.341641   11.832160  10.059821  8.203658   \n",
       "1              5.329165     1.788854   15.000000  10.397115  8.384510   \n",
       "2              5.916080     1.788854   15.000000  10.339246  8.402381   \n",
       "3              6.480741     1.870829   14.491377  10.705139  8.449852   \n",
       "4              4.897959     1.341641   12.247449  10.129166  8.258329   \n",
       "..                  ...          ...         ...        ...       ...   \n",
       "151            4.939636     1.378405   12.649111  10.024969  8.221922   \n",
       "152            5.244044     1.549193   12.961481  10.242070  8.324662   \n",
       "153            5.366563     1.549193   12.961481  10.242070  8.324662   \n",
       "154            6.745369     1.516575   15.362291  10.242070  8.455767   \n",
       "155            6.000000     1.702939   14.177447  10.483320  8.491172   \n",
       "\n",
       "        Length  Curb_weight  Fuel_capacity  Fuel_efficiency    Resale  \n",
       "0    13.130118     1.624500       3.633180         5.291503  4.044750  \n",
       "1    13.888844     1.875367       4.147288         5.000000  4.458139  \n",
       "2    13.856406     1.862794       4.147288         5.099020  4.269075  \n",
       "3    14.021412     1.962142       4.242641         4.690416  5.139127  \n",
       "4    13.341664     1.731473       4.049691         5.196152  4.717521  \n",
       "..         ...          ...            ...              ...       ...  \n",
       "151  13.289093     1.744133       3.974921         5.000000  4.249824  \n",
       "152  13.634515     1.791089       4.230839         5.000000  4.249824  \n",
       "153  13.645512     1.805270       4.230839         5.000000  4.249824  \n",
       "154  13.627179     1.897630       4.301163         4.795832  4.249824  \n",
       "155  13.776792     1.897367       4.593474         4.898979  4.249824  \n",
       "\n",
       "[156 rows x 10 columns]"
      ]
     },
     "execution_count": 10,
     "metadata": {},
     "output_type": "execute_result"
    }
   ],
   "source": [
    "i = np.sqrt(a)\n",
    "i"
   ]
  },
  {
   "cell_type": "markdown",
   "id": "d749af8d",
   "metadata": {},
   "source": [
    "# Data partition"
   ]
  },
  {
   "cell_type": "code",
   "execution_count": 11,
   "id": "8367f10f",
   "metadata": {},
   "outputs": [],
   "source": [
    "x = i.drop('Price_in_thousands',axis=1)\n",
    "\n",
    "y= i[['Price_in_thousands']]\n",
    "\n",
    "from sklearn.model_selection import train_test_split\n",
    "X_train ,X_test , Y_train ,Y_test = train_test_split(x,y,train_size=0.7,random_state=90)"
   ]
  },
  {
   "cell_type": "code",
   "execution_count": 12,
   "id": "ed874b61",
   "metadata": {},
   "outputs": [
    {
     "data": {
      "text/html": [
       "<div>\n",
       "<style scoped>\n",
       "    .dataframe tbody tr th:only-of-type {\n",
       "        vertical-align: middle;\n",
       "    }\n",
       "\n",
       "    .dataframe tbody tr th {\n",
       "        vertical-align: top;\n",
       "    }\n",
       "\n",
       "    .dataframe thead th {\n",
       "        text-align: right;\n",
       "    }\n",
       "</style>\n",
       "<table border=\"1\" class=\"dataframe\">\n",
       "  <thead>\n",
       "    <tr style=\"text-align: right;\">\n",
       "      <th></th>\n",
       "      <th>Engine_size</th>\n",
       "      <th>Horsepower</th>\n",
       "      <th>Wheelbase</th>\n",
       "      <th>Width</th>\n",
       "      <th>Length</th>\n",
       "      <th>Curb_weight</th>\n",
       "      <th>Fuel_capacity</th>\n",
       "      <th>Fuel_efficiency</th>\n",
       "      <th>Resale</th>\n",
       "      <th>Price_in_thousands</th>\n",
       "    </tr>\n",
       "  </thead>\n",
       "  <tbody>\n",
       "    <tr>\n",
       "      <th>10</th>\n",
       "      <td>1.760682</td>\n",
       "      <td>13.228757</td>\n",
       "      <td>10.440307</td>\n",
       "      <td>8.526429</td>\n",
       "      <td>13.949910</td>\n",
       "      <td>1.835211</td>\n",
       "      <td>4.183300</td>\n",
       "      <td>5.000000</td>\n",
       "      <td>3.531997</td>\n",
       "      <td>4.687750</td>\n",
       "    </tr>\n",
       "    <tr>\n",
       "      <th>18</th>\n",
       "      <td>2.342541</td>\n",
       "      <td>15.968719</td>\n",
       "      <td>10.839742</td>\n",
       "      <td>8.774964</td>\n",
       "      <td>14.184499</td>\n",
       "      <td>2.257045</td>\n",
       "      <td>5.023694</td>\n",
       "      <td>3.872983</td>\n",
       "      <td>4.249824</td>\n",
       "      <td>6.798897</td>\n",
       "    </tr>\n",
       "    <tr>\n",
       "      <th>94</th>\n",
       "      <td>2.236068</td>\n",
       "      <td>17.378147</td>\n",
       "      <td>9.949874</td>\n",
       "      <td>8.443933</td>\n",
       "      <td>13.307892</td>\n",
       "      <td>2.031010</td>\n",
       "      <td>4.593474</td>\n",
       "      <td>4.472136</td>\n",
       "      <td>5.139127</td>\n",
       "      <td>7.315224</td>\n",
       "    </tr>\n",
       "    <tr>\n",
       "      <th>155</th>\n",
       "      <td>1.702939</td>\n",
       "      <td>14.177447</td>\n",
       "      <td>10.483320</td>\n",
       "      <td>8.491172</td>\n",
       "      <td>13.776792</td>\n",
       "      <td>1.897367</td>\n",
       "      <td>4.593474</td>\n",
       "      <td>4.898979</td>\n",
       "      <td>4.249824</td>\n",
       "      <td>6.000000</td>\n",
       "    </tr>\n",
       "    <tr>\n",
       "      <th>150</th>\n",
       "      <td>1.378405</td>\n",
       "      <td>12.649111</td>\n",
       "      <td>10.024969</td>\n",
       "      <td>8.221922</td>\n",
       "      <td>13.289093</td>\n",
       "      <td>1.731473</td>\n",
       "      <td>3.974921</td>\n",
       "      <td>5.000000</td>\n",
       "      <td>4.249824</td>\n",
       "      <td>4.837355</td>\n",
       "    </tr>\n",
       "    <tr>\n",
       "      <th>...</th>\n",
       "      <td>...</td>\n",
       "      <td>...</td>\n",
       "      <td>...</td>\n",
       "      <td>...</td>\n",
       "      <td>...</td>\n",
       "      <td>...</td>\n",
       "      <td>...</td>\n",
       "      <td>...</td>\n",
       "      <td>...</td>\n",
       "      <td>...</td>\n",
       "    </tr>\n",
       "    <tr>\n",
       "      <th>37</th>\n",
       "      <td>1.643168</td>\n",
       "      <td>14.212670</td>\n",
       "      <td>10.630146</td>\n",
       "      <td>8.642916</td>\n",
       "      <td>14.272351</td>\n",
       "      <td>1.867887</td>\n",
       "      <td>4.123106</td>\n",
       "      <td>4.690416</td>\n",
       "      <td>3.503570</td>\n",
       "      <td>4.743944</td>\n",
       "    </tr>\n",
       "    <tr>\n",
       "      <th>58</th>\n",
       "      <td>1.414214</td>\n",
       "      <td>12.083046</td>\n",
       "      <td>10.158740</td>\n",
       "      <td>8.300602</td>\n",
       "      <td>13.326665</td>\n",
       "      <td>1.794157</td>\n",
       "      <td>3.911521</td>\n",
       "      <td>4.898979</td>\n",
       "      <td>4.208325</td>\n",
       "      <td>4.533211</td>\n",
       "    </tr>\n",
       "    <tr>\n",
       "      <th>67</th>\n",
       "      <td>2.000000</td>\n",
       "      <td>13.784049</td>\n",
       "      <td>10.069757</td>\n",
       "      <td>8.330666</td>\n",
       "      <td>12.942179</td>\n",
       "      <td>1.787177</td>\n",
       "      <td>4.472136</td>\n",
       "      <td>4.472136</td>\n",
       "      <td>3.711469</td>\n",
       "      <td>4.649731</td>\n",
       "    </tr>\n",
       "    <tr>\n",
       "      <th>114</th>\n",
       "      <td>1.414214</td>\n",
       "      <td>11.489125</td>\n",
       "      <td>10.392305</td>\n",
       "      <td>8.426150</td>\n",
       "      <td>13.649176</td>\n",
       "      <td>1.715226</td>\n",
       "      <td>4.000000</td>\n",
       "      <td>5.196152</td>\n",
       "      <td>3.130495</td>\n",
       "      <td>4.009988</td>\n",
       "    </tr>\n",
       "    <tr>\n",
       "      <th>91</th>\n",
       "      <td>1.516575</td>\n",
       "      <td>13.601471</td>\n",
       "      <td>10.290773</td>\n",
       "      <td>8.228001</td>\n",
       "      <td>13.319159</td>\n",
       "      <td>1.802776</td>\n",
       "      <td>4.049691</td>\n",
       "      <td>5.099020</td>\n",
       "      <td>5.103920</td>\n",
       "      <td>5.634714</td>\n",
       "    </tr>\n",
       "  </tbody>\n",
       "</table>\n",
       "<p>109 rows × 10 columns</p>\n",
       "</div>"
      ],
      "text/plain": [
       "     Engine_size  Horsepower  Wheelbase     Width     Length  Curb_weight  \\\n",
       "10      1.760682   13.228757  10.440307  8.526429  13.949910     1.835211   \n",
       "18      2.342541   15.968719  10.839742  8.774964  14.184499     2.257045   \n",
       "94      2.236068   17.378147   9.949874  8.443933  13.307892     2.031010   \n",
       "155     1.702939   14.177447  10.483320  8.491172  13.776792     1.897367   \n",
       "150     1.378405   12.649111  10.024969  8.221922  13.289093     1.731473   \n",
       "..           ...         ...        ...       ...        ...          ...   \n",
       "37      1.643168   14.212670  10.630146  8.642916  14.272351     1.867887   \n",
       "58      1.414214   12.083046  10.158740  8.300602  13.326665     1.794157   \n",
       "67      2.000000   13.784049  10.069757  8.330666  12.942179     1.787177   \n",
       "114     1.414214   11.489125  10.392305  8.426150  13.649176     1.715226   \n",
       "91      1.516575   13.601471  10.290773  8.228001  13.319159     1.802776   \n",
       "\n",
       "     Fuel_capacity  Fuel_efficiency    Resale  Price_in_thousands  \n",
       "10        4.183300         5.000000  3.531997            4.687750  \n",
       "18        5.023694         3.872983  4.249824            6.798897  \n",
       "94        4.593474         4.472136  5.139127            7.315224  \n",
       "155       4.593474         4.898979  4.249824            6.000000  \n",
       "150       3.974921         5.000000  4.249824            4.837355  \n",
       "..             ...              ...       ...                 ...  \n",
       "37        4.123106         4.690416  3.503570            4.743944  \n",
       "58        3.911521         4.898979  4.208325            4.533211  \n",
       "67        4.472136         4.472136  3.711469            4.649731  \n",
       "114       4.000000         5.196152  3.130495            4.009988  \n",
       "91        4.049691         5.099020  5.103920            5.634714  \n",
       "\n",
       "[109 rows x 10 columns]"
      ]
     },
     "execution_count": 12,
     "metadata": {},
     "output_type": "execute_result"
    }
   ],
   "source": [
    "train =pd.concat([X_train,Y_train],axis=1)\n",
    "train"
   ]
  },
  {
   "cell_type": "markdown",
   "id": "a31fb0a9",
   "metadata": {},
   "source": [
    "# Correlation"
   ]
  },
  {
   "cell_type": "code",
   "execution_count": 13,
   "id": "b63f73e5",
   "metadata": {},
   "outputs": [
    {
     "data": {
      "text/html": [
       "<div>\n",
       "<style scoped>\n",
       "    .dataframe tbody tr th:only-of-type {\n",
       "        vertical-align: middle;\n",
       "    }\n",
       "\n",
       "    .dataframe tbody tr th {\n",
       "        vertical-align: top;\n",
       "    }\n",
       "\n",
       "    .dataframe thead th {\n",
       "        text-align: right;\n",
       "    }\n",
       "</style>\n",
       "<table border=\"1\" class=\"dataframe\">\n",
       "  <thead>\n",
       "    <tr style=\"text-align: right;\">\n",
       "      <th></th>\n",
       "      <th>Engine_size</th>\n",
       "      <th>Horsepower</th>\n",
       "      <th>Wheelbase</th>\n",
       "      <th>Width</th>\n",
       "      <th>Length</th>\n",
       "      <th>Curb_weight</th>\n",
       "      <th>Fuel_capacity</th>\n",
       "      <th>Fuel_efficiency</th>\n",
       "      <th>Resale</th>\n",
       "      <th>Price_in_thousands</th>\n",
       "    </tr>\n",
       "  </thead>\n",
       "  <tbody>\n",
       "    <tr>\n",
       "      <th>Engine_size</th>\n",
       "      <td>1.000000</td>\n",
       "      <td>0.821499</td>\n",
       "      <td>0.505432</td>\n",
       "      <td>0.744481</td>\n",
       "      <td>0.569114</td>\n",
       "      <td>0.831484</td>\n",
       "      <td>0.731874</td>\n",
       "      <td>-0.752547</td>\n",
       "      <td>0.489359</td>\n",
       "      <td>0.648850</td>\n",
       "    </tr>\n",
       "    <tr>\n",
       "      <th>Horsepower</th>\n",
       "      <td>0.821499</td>\n",
       "      <td>1.000000</td>\n",
       "      <td>0.330098</td>\n",
       "      <td>0.584866</td>\n",
       "      <td>0.401969</td>\n",
       "      <td>0.703017</td>\n",
       "      <td>0.572197</td>\n",
       "      <td>-0.595697</td>\n",
       "      <td>0.716097</td>\n",
       "      <td>0.877102</td>\n",
       "    </tr>\n",
       "    <tr>\n",
       "      <th>Wheelbase</th>\n",
       "      <td>0.505432</td>\n",
       "      <td>0.330098</td>\n",
       "      <td>1.000000</td>\n",
       "      <td>0.657735</td>\n",
       "      <td>0.835311</td>\n",
       "      <td>0.646488</td>\n",
       "      <td>0.603468</td>\n",
       "      <td>-0.412893</td>\n",
       "      <td>0.144204</td>\n",
       "      <td>0.188723</td>\n",
       "    </tr>\n",
       "    <tr>\n",
       "      <th>Width</th>\n",
       "      <td>0.744481</td>\n",
       "      <td>0.584866</td>\n",
       "      <td>0.657735</td>\n",
       "      <td>1.000000</td>\n",
       "      <td>0.705706</td>\n",
       "      <td>0.746160</td>\n",
       "      <td>0.624204</td>\n",
       "      <td>-0.570504</td>\n",
       "      <td>0.304570</td>\n",
       "      <td>0.425926</td>\n",
       "    </tr>\n",
       "    <tr>\n",
       "      <th>Length</th>\n",
       "      <td>0.569114</td>\n",
       "      <td>0.401969</td>\n",
       "      <td>0.835311</td>\n",
       "      <td>0.705706</td>\n",
       "      <td>1.000000</td>\n",
       "      <td>0.616384</td>\n",
       "      <td>0.534640</td>\n",
       "      <td>-0.329640</td>\n",
       "      <td>0.158839</td>\n",
       "      <td>0.176867</td>\n",
       "    </tr>\n",
       "    <tr>\n",
       "      <th>Curb_weight</th>\n",
       "      <td>0.831484</td>\n",
       "      <td>0.703017</td>\n",
       "      <td>0.646488</td>\n",
       "      <td>0.746160</td>\n",
       "      <td>0.616384</td>\n",
       "      <td>1.000000</td>\n",
       "      <td>0.875390</td>\n",
       "      <td>-0.801442</td>\n",
       "      <td>0.538236</td>\n",
       "      <td>0.624318</td>\n",
       "    </tr>\n",
       "    <tr>\n",
       "      <th>Fuel_capacity</th>\n",
       "      <td>0.731874</td>\n",
       "      <td>0.572197</td>\n",
       "      <td>0.603468</td>\n",
       "      <td>0.624204</td>\n",
       "      <td>0.534640</td>\n",
       "      <td>0.875390</td>\n",
       "      <td>1.000000</td>\n",
       "      <td>-0.812305</td>\n",
       "      <td>0.444981</td>\n",
       "      <td>0.498995</td>\n",
       "    </tr>\n",
       "    <tr>\n",
       "      <th>Fuel_efficiency</th>\n",
       "      <td>-0.752547</td>\n",
       "      <td>-0.595697</td>\n",
       "      <td>-0.412893</td>\n",
       "      <td>-0.570504</td>\n",
       "      <td>-0.329640</td>\n",
       "      <td>-0.801442</td>\n",
       "      <td>-0.812305</td>\n",
       "      <td>1.000000</td>\n",
       "      <td>-0.419044</td>\n",
       "      <td>-0.523804</td>\n",
       "    </tr>\n",
       "    <tr>\n",
       "      <th>Resale</th>\n",
       "      <td>0.489359</td>\n",
       "      <td>0.716097</td>\n",
       "      <td>0.144204</td>\n",
       "      <td>0.304570</td>\n",
       "      <td>0.158839</td>\n",
       "      <td>0.538236</td>\n",
       "      <td>0.444981</td>\n",
       "      <td>-0.419044</td>\n",
       "      <td>1.000000</td>\n",
       "      <td>0.806265</td>\n",
       "    </tr>\n",
       "    <tr>\n",
       "      <th>Price_in_thousands</th>\n",
       "      <td>0.648850</td>\n",
       "      <td>0.877102</td>\n",
       "      <td>0.188723</td>\n",
       "      <td>0.425926</td>\n",
       "      <td>0.176867</td>\n",
       "      <td>0.624318</td>\n",
       "      <td>0.498995</td>\n",
       "      <td>-0.523804</td>\n",
       "      <td>0.806265</td>\n",
       "      <td>1.000000</td>\n",
       "    </tr>\n",
       "  </tbody>\n",
       "</table>\n",
       "</div>"
      ],
      "text/plain": [
       "                    Engine_size  Horsepower  Wheelbase     Width    Length  \\\n",
       "Engine_size            1.000000    0.821499   0.505432  0.744481  0.569114   \n",
       "Horsepower             0.821499    1.000000   0.330098  0.584866  0.401969   \n",
       "Wheelbase              0.505432    0.330098   1.000000  0.657735  0.835311   \n",
       "Width                  0.744481    0.584866   0.657735  1.000000  0.705706   \n",
       "Length                 0.569114    0.401969   0.835311  0.705706  1.000000   \n",
       "Curb_weight            0.831484    0.703017   0.646488  0.746160  0.616384   \n",
       "Fuel_capacity          0.731874    0.572197   0.603468  0.624204  0.534640   \n",
       "Fuel_efficiency       -0.752547   -0.595697  -0.412893 -0.570504 -0.329640   \n",
       "Resale                 0.489359    0.716097   0.144204  0.304570  0.158839   \n",
       "Price_in_thousands     0.648850    0.877102   0.188723  0.425926  0.176867   \n",
       "\n",
       "                    Curb_weight  Fuel_capacity  Fuel_efficiency    Resale  \\\n",
       "Engine_size            0.831484       0.731874        -0.752547  0.489359   \n",
       "Horsepower             0.703017       0.572197        -0.595697  0.716097   \n",
       "Wheelbase              0.646488       0.603468        -0.412893  0.144204   \n",
       "Width                  0.746160       0.624204        -0.570504  0.304570   \n",
       "Length                 0.616384       0.534640        -0.329640  0.158839   \n",
       "Curb_weight            1.000000       0.875390        -0.801442  0.538236   \n",
       "Fuel_capacity          0.875390       1.000000        -0.812305  0.444981   \n",
       "Fuel_efficiency       -0.801442      -0.812305         1.000000 -0.419044   \n",
       "Resale                 0.538236       0.444981        -0.419044  1.000000   \n",
       "Price_in_thousands     0.624318       0.498995        -0.523804  0.806265   \n",
       "\n",
       "                    Price_in_thousands  \n",
       "Engine_size                   0.648850  \n",
       "Horsepower                    0.877102  \n",
       "Wheelbase                     0.188723  \n",
       "Width                         0.425926  \n",
       "Length                        0.176867  \n",
       "Curb_weight                   0.624318  \n",
       "Fuel_capacity                 0.498995  \n",
       "Fuel_efficiency              -0.523804  \n",
       "Resale                        0.806265  \n",
       "Price_in_thousands            1.000000  "
      ]
     },
     "execution_count": 13,
     "metadata": {},
     "output_type": "execute_result"
    }
   ],
   "source": [
    "train.corr()"
   ]
  },
  {
   "cell_type": "code",
   "execution_count": 14,
   "id": "1e45d307",
   "metadata": {},
   "outputs": [
    {
     "data": {
      "text/plain": [
       "<AxesSubplot:>"
      ]
     },
     "execution_count": 14,
     "metadata": {},
     "output_type": "execute_result"
    },
    {
     "data": {
      "image/png": "[encoded data removed]",
      "text/plain": [
       "<Figure size 432x288 with 2 Axes>"
      ]
     },
     "metadata": {
      "needs_background": "light"
     },
     "output_type": "display_data"
    }
   ],
   "source": [
    "sns.heatmap(train.corr(),annot=True)"
   ]
  },
  {
   "cell_type": "code",
   "execution_count": 15,
   "id": "c19035e4",
   "metadata": {},
   "outputs": [
    {
     "data": {
      "text/plain": [
       "<AxesSubplot:xlabel='Horsepower', ylabel='Price_in_thousands'>"
      ]
     },
     "execution_count": 15,
     "metadata": {},
     "output_type": "execute_result"
    },
    {
     "data": {
      "image/png": "[encoded data removed]",
      "text/plain": [
       "<Figure size 432x288 with 1 Axes>"
      ]
     },
     "metadata": {
      "needs_background": "light"
     },
     "output_type": "display_data"
    }
   ],
   "source": [
    "sns.scatterplot(x='Horsepower',y='Price_in_thousands',data=train)"
   ]
  },
  {
   "cell_type": "code",
   "execution_count": 16,
   "id": "e3e628fc",
   "metadata": {},
   "outputs": [],
   "source": [
    "a['Price_in_thousands']=a['Price_in_thousands'].transform(np.sqrt)"
   ]
  },
  {
   "cell_type": "markdown",
   "id": "2d3debda",
   "metadata": {},
   "source": [
    "#### Horsepower has 88 % strong positive correlation "
   ]
  },
  {
   "cell_type": "markdown",
   "id": "d801ca6e",
   "metadata": {},
   "source": [
    "#### Collinearity exists between length and wheelbase ie 84%"
   ]
  },
  {
   "cell_type": "markdown",
   "id": "f4bd02de",
   "metadata": {},
   "source": [
    "# Multicollinearity"
   ]
  },
  {
   "cell_type": "code",
   "execution_count": 18,
   "id": "a2b030c5",
   "metadata": {},
   "outputs": [
    {
     "data": {
      "text/plain": [
       "Engine_size         285.636147\n",
       "Horsepower          261.996215\n",
       "Wheelbase          3829.728471\n",
       "Width              2642.877008\n",
       "Length             3308.273912\n",
       "Curb_weight        1094.975237\n",
       "Fuel_capacity       577.295261\n",
       "Fuel_efficiency     469.657351\n",
       "Resale              105.103073\n",
       "dtype: float64"
      ]
     },
     "execution_count": 18,
     "metadata": {},
     "output_type": "execute_result"
    }
   ],
   "source": [
    "import statsmodels\n",
    "from statsmodels.stats.outliers_influence import variance_inflation_factor\n",
    "x1 =train.drop(['Price_in_thousands'],axis=1)\n",
    "\n",
    "series_before=pd.Series([variance_inflation_factor(x1.values,i)\n",
    "                        for i in range(x1.shape[1])],\n",
    "                       index=x1.columns)\n",
    "series_before"
   ]
  },
  {
   "cell_type": "markdown",
   "id": "139c55c7",
   "metadata": {},
   "source": [
    "# Model buiding "
   ]
  },
  {
   "cell_type": "markdown",
   "id": "7748aff8",
   "metadata": {},
   "source": [
    "#### H0: There is no relationship between x and y('Price in thousands') "
   ]
  },
  {
   "cell_type": "markdown",
   "id": "2569859b",
   "metadata": {},
   "source": [
    "#### H1: There is relationship between x and y('Price in thousands')"
   ]
  },
  {
   "cell_type": "markdown",
   "id": "808202ea",
   "metadata": {},
   "source": [
    "#### Alpha =0.05"
   ]
  },
  {
   "cell_type": "code",
   "execution_count": 20,
   "id": "2516ef51",
   "metadata": {},
   "outputs": [
    {
     "data": {
      "text/html": [
       "<table class=\"simpletable\">\n",
       "<caption>OLS Regression Results</caption>\n",
       "<tr>\n",
       "  <th>Dep. Variable:</th>    <td>Price_in_thousands</td> <th>  R-squared:         </th> <td>   0.869</td>\n",
       "</tr>\n",
       "<tr>\n",
       "  <th>Model:</th>                    <td>OLS</td>        <th>  Adj. R-squared:    </th> <td>   0.859</td>\n",
       "</tr>\n",
       "<tr>\n",
       "  <th>Method:</th>              <td>Least Squares</td>   <th>  F-statistic:       </th> <td>   82.99</td>\n",
       "</tr>\n",
       "<tr>\n",
       "  <th>Date:</th>              <td>Wed, 18 May 2022</td>  <th>  Prob (F-statistic):</th> <td>1.09e-40</td>\n",
       "</tr>\n",
       "<tr>\n",
       "  <th>Time:</th>                  <td>22:51:55</td>      <th>  Log-Likelihood:    </th> <td> -51.960</td>\n",
       "</tr>\n",
       "<tr>\n",
       "  <th>No. Observations:</th>       <td>   109</td>       <th>  AIC:               </th> <td>   121.9</td>\n",
       "</tr>\n",
       "<tr>\n",
       "  <th>Df Residuals:</th>           <td>   100</td>       <th>  BIC:               </th> <td>   146.1</td>\n",
       "</tr>\n",
       "<tr>\n",
       "  <th>Df Model:</th>               <td>     8</td>       <th>                     </th>     <td> </td>   \n",
       "</tr>\n",
       "<tr>\n",
       "  <th>Covariance Type:</th>       <td>nonrobust</td>     <th>                     </th>     <td> </td>   \n",
       "</tr>\n",
       "</table>\n",
       "<table class=\"simpletable\">\n",
       "<tr>\n",
       "         <td></td>            <th>coef</th>     <th>std err</th>      <th>t</th>      <th>P>|t|</th>  <th>[0.025</th>    <th>0.975]</th>  \n",
       "</tr>\n",
       "<tr>\n",
       "  <th>Intercept</th>       <td>   -0.2073</td> <td>    2.496</td> <td>   -0.083</td> <td> 0.934</td> <td>   -5.160</td> <td>    4.745</td>\n",
       "</tr>\n",
       "<tr>\n",
       "  <th>Engine_size</th>     <td>   -0.4385</td> <td>    0.377</td> <td>   -1.163</td> <td> 0.248</td> <td>   -1.186</td> <td>    0.309</td>\n",
       "</tr>\n",
       "<tr>\n",
       "  <th>Horsepower</th>      <td>    0.4063</td> <td>    0.046</td> <td>    8.906</td> <td> 0.000</td> <td>    0.316</td> <td>    0.497</td>\n",
       "</tr>\n",
       "<tr>\n",
       "  <th>Wheelbase</th>       <td>    0.2605</td> <td>    0.235</td> <td>    1.107</td> <td> 0.271</td> <td>   -0.206</td> <td>    0.727</td>\n",
       "</tr>\n",
       "<tr>\n",
       "  <th>Width</th>           <td>    0.1562</td> <td>    0.343</td> <td>    0.455</td> <td> 0.650</td> <td>   -0.524</td> <td>    0.837</td>\n",
       "</tr>\n",
       "<tr>\n",
       "  <th>Length</th>          <td>   -0.6550</td> <td>    0.168</td> <td>   -3.909</td> <td> 0.000</td> <td>   -0.987</td> <td>   -0.323</td>\n",
       "</tr>\n",
       "<tr>\n",
       "  <th>Curb_weight</th>     <td>    1.4777</td> <td>    0.631</td> <td>    2.343</td> <td> 0.021</td> <td>    0.226</td> <td>    2.729</td>\n",
       "</tr>\n",
       "<tr>\n",
       "  <th>Fuel_efficiency</th> <td>    0.1990</td> <td>    0.179</td> <td>    1.111</td> <td> 0.269</td> <td>   -0.156</td> <td>    0.554</td>\n",
       "</tr>\n",
       "<tr>\n",
       "  <th>Resale</th>          <td>    0.4530</td> <td>    0.099</td> <td>    4.597</td> <td> 0.000</td> <td>    0.257</td> <td>    0.648</td>\n",
       "</tr>\n",
       "</table>\n",
       "<table class=\"simpletable\">\n",
       "<tr>\n",
       "  <th>Omnibus:</th>       <td> 6.091</td> <th>  Durbin-Watson:     </th> <td>   1.940</td>\n",
       "</tr>\n",
       "<tr>\n",
       "  <th>Prob(Omnibus):</th> <td> 0.048</td> <th>  Jarque-Bera (JB):  </th> <td>   5.522</td>\n",
       "</tr>\n",
       "<tr>\n",
       "  <th>Skew:</th>          <td> 0.514</td> <th>  Prob(JB):          </th> <td>  0.0632</td>\n",
       "</tr>\n",
       "<tr>\n",
       "  <th>Kurtosis:</th>      <td> 3.399</td> <th>  Cond. No.          </th> <td>1.58e+03</td>\n",
       "</tr>\n",
       "</table><br/><br/>Notes:<br/>[1] Standard Errors assume that the covariance matrix of the errors is correctly specified.<br/>[2] The condition number is large, 1.58e+03. This might indicate that there are<br/>strong multicollinearity or other numerical problems."
      ],
      "text/plain": [
       "<class 'statsmodels.iolib.summary.Summary'>\n",
       "\"\"\"\n",
       "                            OLS Regression Results                            \n",
       "==============================================================================\n",
       "Dep. Variable:     Price_in_thousands   R-squared:                       0.869\n",
       "Model:                            OLS   Adj. R-squared:                  0.859\n",
       "Method:                 Least Squares   F-statistic:                     82.99\n",
       "Date:                Wed, 18 May 2022   Prob (F-statistic):           1.09e-40\n",
       "Time:                        22:51:55   Log-Likelihood:                -51.960\n",
       "No. Observations:                 109   AIC:                             121.9\n",
       "Df Residuals:                     100   BIC:                             146.1\n",
       "Df Model:                           8                                         \n",
       "Covariance Type:            nonrobust                                         \n",
       "===================================================================================\n",
       "                      coef    std err          t      P>|t|      [0.025      0.975]\n",
       "-----------------------------------------------------------------------------------\n",
       "Intercept          -0.2073      2.496     -0.083      0.934      -5.160       4.745\n",
       "Engine_size        -0.4385      0.377     -1.163      0.248      -1.186       0.309\n",
       "Horsepower          0.4063      0.046      8.906      0.000       0.316       0.497\n",
       "Wheelbase           0.2605      0.235      1.107      0.271      -0.206       0.727\n",
       "Width               0.1562      0.343      0.455      0.650      -0.524       0.837\n",
       "Length             -0.6550      0.168     -3.909      0.000      -0.987      -0.323\n",
       "Curb_weight         1.4777      0.631      2.343      0.021       0.226       2.729\n",
       "Fuel_efficiency     0.1990      0.179      1.111      0.269      -0.156       0.554\n",
       "Resale              0.4530      0.099      4.597      0.000       0.257       0.648\n",
       "==============================================================================\n",
       "Omnibus:                        6.091   Durbin-Watson:                   1.940\n",
       "Prob(Omnibus):                  0.048   Jarque-Bera (JB):                5.522\n",
       "Skew:                           0.514   Prob(JB):                       0.0632\n",
       "Kurtosis:                       3.399   Cond. No.                     1.58e+03\n",
       "==============================================================================\n",
       "\n",
       "Notes:\n",
       "[1] Standard Errors assume that the covariance matrix of the errors is correctly specified.\n",
       "[2] The condition number is large, 1.58e+03. This might indicate that there are\n",
       "strong multicollinearity or other numerical problems.\n",
       "\"\"\""
      ]
     },
     "execution_count": 20,
     "metadata": {},
     "output_type": "execute_result"
    }
   ],
   "source": [
    "import statsmodels.formula.api as smf\n",
    "model =smf.ols(' Price_in_thousands ~ Engine_size + Horsepower + Wheelbase + Width + Length + Curb_weight + Fuel_efficiency + Resale',data=train).fit()\n",
    "model.summary()"
   ]
  },
  {
   "cell_type": "markdown",
   "id": "a9c24e8b",
   "metadata": {},
   "source": [
    "#### Accuracy of model : 86%,hence model is good fit"
   ]
  },
  {
   "cell_type": "markdown",
   "id": "4d8f4d8f",
   "metadata": {},
   "source": [
    "#### There is relation between price_in_thousands and Horsepower, Length, Curb_weight,Resale"
   ]
  },
  {
   "cell_type": "code",
   "execution_count": null,
   "id": "2574f5c3",
   "metadata": {},
   "outputs": [],
   "source": [
    "x1.shape"
   ]
  },
  {
   "cell_type": "code",
   "execution_count": null,
   "id": "8c51bf11",
   "metadata": {},
   "outputs": [],
   "source": [
    "from statsmodels.stats.outliers_influence import variance_inflation_factor\n",
    "x1 =train.loc[:,['Engine_size','Fuel_efficiency']]\n",
    "series_before = pd.Series([variance_inflation_factor(x1.values,i)\n",
    "                           for i in range(x1.shape[1])],\n",
    "                          index=x1.columns)\n",
    "series_before"
   ]
  },
  {
   "cell_type": "markdown",
   "id": "6991601d",
   "metadata": {},
   "source": [
    "# Asumption of model"
   ]
  },
  {
   "cell_type": "markdown",
   "id": "3c6c4edd",
   "metadata": {},
   "source": [
    "## Linearity"
   ]
  },
  {
   "cell_type": "code",
   "execution_count": null,
   "id": "c4a91c95",
   "metadata": {},
   "outputs": [],
   "source": [
    "sns.scatterplot(x='Engine_size',y='Price_in_thousands',data=train)"
   ]
  },
  {
   "cell_type": "markdown",
   "id": "f2e7948c",
   "metadata": {},
   "source": [
    "## Constant variance"
   ]
  },
  {
   "cell_type": "code",
   "execution_count": null,
   "id": "b40c6a0a",
   "metadata": {},
   "outputs": [],
   "source": [
    "train['fitted_values']=model.fittedvalues\n",
    "train['residual']=model.resid\n",
    "train"
   ]
  },
  {
   "cell_type": "code",
   "execution_count": null,
   "id": "d0093627",
   "metadata": {},
   "outputs": [],
   "source": [
    "sns.scatterplot(x='fitted_values',y='residual',data=train)"
   ]
  },
  {
   "cell_type": "markdown",
   "id": "ce5237c1",
   "metadata": {},
   "source": [
    "## Normality"
   ]
  },
  {
   "cell_type": "code",
   "execution_count": null,
   "id": "51af86da",
   "metadata": {},
   "outputs": [],
   "source": [
    "import statsmodels.api as sm\n",
    "fig =sm.qqplot(train['residual'],fit=True,line='s')\n",
    "plt.show()"
   ]
  },
  {
   "cell_type": "markdown",
   "id": "a1f95cd0",
   "metadata": {},
   "source": [
    "## Model error should be IID"
   ]
  },
  {
   "cell_type": "code",
   "execution_count": null,
   "id": "b8b69fcb",
   "metadata": {},
   "outputs": [],
   "source": [
    "sns.distplot(train.residual)"
   ]
  },
  {
   "cell_type": "markdown",
   "id": "11266bfc",
   "metadata": {},
   "source": [
    "# Prediction"
   ]
  },
  {
   "cell_type": "code",
   "execution_count": null,
   "id": "ac787a4e",
   "metadata": {},
   "outputs": [],
   "source": [
    "test=pd.concat([X_test,Y_test],axis=1)\n",
    "test.head()"
   ]
  },
  {
   "cell_type": "code",
   "execution_count": null,
   "id": "2cf09fa8",
   "metadata": {},
   "outputs": [],
   "source": [
    "test['predicted']=model.predict(test)\n",
    "test.head()"
   ]
  }
 ],
 "metadata": {
  "kernelspec": {
   "display_name": "Python 3 (ipykernel)",
   "language": "python",
   "name": "python3"
  },
  "language_info": {
   "codemirror_mode": {
    "name": "ipython",
    "version": 3
   },
   "file_extension": ".py",
   "mimetype": "text/x-python",
   "name": "python",
   "nbconvert_exporter": "python",
   "pygments_lexer": "ipython3",
   "version": "3.9.7"
  }
 },
 "nbformat": 4,
 "nbformat_minor": 5
}
